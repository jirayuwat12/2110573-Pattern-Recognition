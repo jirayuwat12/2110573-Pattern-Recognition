{
 "cells": [
  {
   "cell_type": "markdown",
   "metadata": {},
   "source": [
    "# Set up"
   ]
  },
  {
   "cell_type": "code",
   "execution_count": 1,
   "metadata": {},
   "outputs": [],
   "source": [
    "import pandas as pd\n",
    "import numpy as np\n",
    "import matplotlib.pyplot as plt\n",
    "\n",
    "import sys\n",
    "sys.path.append('../')\n",
    "import Clustering.knn as knn"
   ]
  },
  {
   "cell_type": "code",
   "execution_count": 2,
   "metadata": {},
   "outputs": [
    {
     "data": {
      "text/plain": [
       "<matplotlib.collections.PathCollection at 0x1c8d9519430>"
      ]
     },
     "execution_count": 2,
     "metadata": {},
     "output_type": "execute_result"
    },
    {
     "data": {
      "image/png": "[encoded data removed]",
      "text/plain": [
       "<Figure size 640x480 with 1 Axes>"
      ]
     },
     "metadata": {},
     "output_type": "display_data"
    }
   ],
   "source": [
    "df = pd.DataFrame(data=[[1, 2],\n",
    "                        [3, 3],\n",
    "                        [2, 2],\n",
    "                        [8, 8],\n",
    "                        [6, 6],\n",
    "                        [7, 7],\n",
    "                        [-3, -3],\n",
    "                        [-2, -4],\n",
    "                        [-7, -7]],\n",
    "                  columns=['x', 'y'])\n",
    "\n",
    "plt.scatter(x=df['x'],\n",
    "            y=df['y'],\n",
    "            color='r')"
   ]
  },
  {
   "cell_type": "markdown",
   "metadata": {},
   "source": [
    "# Task 5"
   ]
  },
  {
   "cell_type": "code",
   "execution_count": 16,
   "metadata": {},
   "outputs": [
    {
     "name": "stdout",
     "output_type": "stream",
     "text": [
      "Init centriod : [[3, 3], [2, 2], [-3, -3]]\n",
      "Assign #1\n",
      "row #0 is change from group None to 1\n",
      "row #1 is change from group None to 0\n",
      "row #2 is change from group None to 1\n",
      "row #3 is change from group None to 0\n",
      "row #4 is change from group None to 0\n",
      "row #5 is change from group None to 0\n",
      "row #6 is change from group None to 2\n",
      "row #7 is change from group None to 2\n",
      "row #8 is change from group None to 2\n",
      "   x  y label\n",
      "0  1  2     1\n",
      "1  3  3     0\n",
      "2  2  2     1\n",
      "3  8  8     0\n",
      "4  6  6     0\n",
      "5  7  7     0\n",
      "6 -3 -3     2\n",
      "7 -2 -4     2\n",
      "8 -7 -7     2\n",
      "Update #1\n",
      "for centriod #0 change from [3, 3] to [6. 6.] which diff 4.242640687119285 units\n",
      "for centriod #1 change from [2, 2] to [1.5 2. ] which diff 0.5 units\n",
      "for centriod #2 change from [-3, -3] to [-4.         -4.66666667] which diff 1.9436506316151003 units\n",
      "   x  y label\n",
      "0  1  2     1\n",
      "1  3  3     0\n",
      "2  2  2     1\n",
      "3  8  8     0\n",
      "4  6  6     0\n",
      "5  7  7     0\n",
      "6 -3 -3     2\n",
      "7 -2 -4     2\n",
      "8 -7 -7     2\n",
      "Assign #2\n",
      "row #1 is change from group 0 to 1\n",
      "   x  y label\n",
      "0  1  2     1\n",
      "1  3  3     1\n",
      "2  2  2     1\n",
      "3  8  8     0\n",
      "4  6  6     0\n",
      "5  7  7     0\n",
      "6 -3 -3     2\n",
      "7 -2 -4     2\n",
      "8 -7 -7     2\n",
      "Update #2\n",
      "for centriod #0 change from [6. 6.] to [7. 7.] which diff 1.4142135623730951 units\n",
      "for centriod #1 change from [1.5 2. ] to [2.         2.33333333] which diff 0.6009252125773317 units\n",
      "for centriod #2 change from [-4.         -4.66666667] to [-4.         -4.66666667] which diff 0.0 units\n",
      "   x  y label\n",
      "0  1  2     1\n",
      "1  3  3     1\n",
      "2  2  2     1\n",
      "3  8  8     0\n",
      "4  6  6     0\n",
      "5  7  7     0\n",
      "6 -3 -3     2\n",
      "7 -2 -4     2\n",
      "8 -7 -7     2\n",
      "Assign #3\n",
      "   x  y label\n",
      "0  1  2     1\n",
      "1  3  3     1\n",
      "2  2  2     1\n",
      "3  8  8     0\n",
      "4  6  6     0\n",
      "5  7  7     0\n",
      "6 -3 -3     2\n",
      "7 -2 -4     2\n",
      "8 -7 -7     2\n",
      "Update #3\n",
      "for centriod #0 change from [7. 7.] to [7. 7.] which diff 0.0 units\n",
      "for centriod #1 change from [2.         2.33333333] to [2.         2.33333333] which diff 0.0 units\n",
      "for centriod #2 change from [-4.         -4.66666667] to [-4.         -4.66666667] which diff 0.0 units\n",
      "   x  y label\n",
      "0  1  2     1\n",
      "1  3  3     1\n",
      "2  2  2     1\n",
      "3  8  8     0\n",
      "4  6  6     0\n",
      "5  7  7     0\n",
      "6 -3 -3     2\n",
      "7 -2 -4     2\n",
      "8 -7 -7     2\n"
     ]
    }
   ],
   "source": [
    "k_mean = knn.KNN()\n",
    "df_1 = k_mean.fit(df=df,\n",
    "           k=3,\n",
    "           centriods=[[3,3], [2,2], [-3,-3]],\n",
    "           explain=True)"
   ]
  },
  {
   "cell_type": "code",
   "execution_count": 20,
   "metadata": {},
   "outputs": [
    {
     "data": {
      "text/plain": [
       "Text(0.5, 1.0, 'First start point')"
      ]
     },
     "execution_count": 20,
     "metadata": {},
     "output_type": "execute_result"
    },
    {
     "data": {
      "image/png": "[encoded data removed]",
      "text/plain": [
       "<Figure size 640x480 with 1 Axes>"
      ]
     },
     "metadata": {},
     "output_type": "display_data"
    }
   ],
   "source": [
    "plt.scatter(x=df_1['x'],\n",
    "            y=df_1['y'],\n",
    "            c=df_1['label'])\n",
    "plt.title(\"First start point\")"
   ]
  },
  {
   "cell_type": "markdown",
   "metadata": {},
   "source": [
    "# Task 6"
   ]
  },
  {
   "cell_type": "code",
   "execution_count": 11,
   "metadata": {},
   "outputs": [
    {
     "name": "stdout",
     "output_type": "stream",
     "text": [
      "Init centriod : [[-3, -3], [2, 2], [-7, -7]]\n",
      "Assign #1\n",
      "row #0 is change from group None to 1\n",
      "row #1 is change from group None to 1\n",
      "row #2 is change from group None to 1\n",
      "row #3 is change from group None to 1\n",
      "row #4 is change from group None to 1\n",
      "row #5 is change from group None to 1\n",
      "row #6 is change from group None to 0\n",
      "row #7 is change from group None to 0\n",
      "row #8 is change from group None to 2\n",
      "   x  y label\n",
      "0  1  2     1\n",
      "1  3  3     1\n",
      "2  2  2     1\n",
      "3  8  8     1\n",
      "4  6  6     1\n",
      "5  7  7     1\n",
      "6 -3 -3     0\n",
      "7 -2 -4     0\n",
      "8 -7 -7     2\n",
      "Update #1\n",
      "for centriod #0 change from [-3, -3] to [-2.5 -3.5] which diff 0.7071067811865476 units\n",
      "for centriod #1 change from [2, 2] to [4.5        4.66666667] which diff 3.655285366576885 units\n",
      "for centriod #2 change from [-7, -7] to [-7. -7.] which diff 0.0 units\n",
      "   x  y label\n",
      "0  1  2     1\n",
      "1  3  3     1\n",
      "2  2  2     1\n",
      "3  8  8     1\n",
      "4  6  6     1\n",
      "5  7  7     1\n",
      "6 -3 -3     0\n",
      "7 -2 -4     0\n",
      "8 -7 -7     2\n",
      "Assign #2\n",
      "   x  y label\n",
      "0  1  2     1\n",
      "1  3  3     1\n",
      "2  2  2     1\n",
      "3  8  8     1\n",
      "4  6  6     1\n",
      "5  7  7     1\n",
      "6 -3 -3     0\n",
      "7 -2 -4     0\n",
      "8 -7 -7     2\n",
      "Update #2\n",
      "for centriod #0 change from [-2.5 -3.5] to [-2.5 -3.5] which diff 0.0 units\n",
      "for centriod #1 change from [4.5        4.66666667] to [4.5        4.66666667] which diff 0.0 units\n",
      "for centriod #2 change from [-7. -7.] to [-7. -7.] which diff 0.0 units\n",
      "   x  y label\n",
      "0  1  2     1\n",
      "1  3  3     1\n",
      "2  2  2     1\n",
      "3  8  8     1\n",
      "4  6  6     1\n",
      "5  7  7     1\n",
      "6 -3 -3     0\n",
      "7 -2 -4     0\n",
      "8 -7 -7     2\n"
     ]
    }
   ],
   "source": [
    "k_mean = knn.KNN()\n",
    "df_2 = k_mean.fit(df=df,\n",
    "           k=3,\n",
    "           centriods=[[-3,-3], [2,2], [-7,-7]],\n",
    "           explain=True)\n"
   ]
  },
  {
   "cell_type": "code",
   "execution_count": 19,
   "metadata": {},
   "outputs": [
    {
     "data": {
      "text/plain": [
       "Text(0.5, 1.0, 'Second start set')"
      ]
     },
     "execution_count": 19,
     "metadata": {},
     "output_type": "execute_result"
    },
    {
     "data": {
      "image/png": "[encoded data removed]",
      "text/plain": [
       "<Figure size 640x480 with 1 Axes>"
      ]
     },
     "metadata": {},
     "output_type": "display_data"
    }
   ],
   "source": [
    "plt.scatter(x=df_2['x'],\n",
    "            y=df_2['y'],\n",
    "            c=df_2['label'])\n",
    "plt.title(\"Second start set\")"
   ]
  },
  {
   "cell_type": "markdown",
   "metadata": {},
   "source": [
    "# Task 7\n",
    "\n",
    "In my opinion, **the first start centriod point is better** for 2 reasons:\n",
    "1. number of point in each group is more balanced *(3, 3, 3) vs. (1, 2, 6)*\n",
    "3. each group has more density *(the green group in second set is too sparse)*"
   ]
  },
  {
   "cell_type": "markdown",
   "metadata": {},
   "source": [
    "# Optional Task 2\n",
    "\n",
    "I think use 4 groups is better because each group would be more dense compared to 3 groups.\n",
    "\n",
    "***PS.*** In my mind, we need the group that dense and less outliers, even they are actually in the same group."
   ]
  }
 ],
 "metadata": {
  "kernelspec": {
   "display_name": "patt_recog",
   "language": "python",
   "name": "python3"
  },
  "language_info": {
   "codemirror_mode": {
    "name": "ipython",
    "version": 3
   },
   "file_extension": ".py",
   "mimetype": "text/x-python",
   "name": "python",
   "nbconvert_exporter": "python",
   "pygments_lexer": "ipython3",
   "version": "3.9.18"
  }
 },
 "nbformat": 4,
 "nbformat_minor": 2
}
